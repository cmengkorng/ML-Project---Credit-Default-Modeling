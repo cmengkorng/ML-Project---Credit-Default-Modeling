{
 "cells": [
  {
   "cell_type": "code",
   "execution_count": null,
   "metadata": {},
   "outputs": [],
   "source": []
  },
  {
   "cell_type": "code",
   "execution_count": 1,
   "metadata": {},
   "outputs": [],
   "source": [
    "import pandas as pd\n",
    "import numpy as np\n",
    "from matplotlib import pyplot as plt\n",
    "from sklearn.model_selection import train_test_split"
   ]
  },
  {
   "cell_type": "markdown",
   "metadata": {},
   "source": [
    "## I. Data cleaning and EDA"
   ]
  },
  {
   "cell_type": "markdown",
   "metadata": {},
   "source": [
    "### import dataset from csv file"
   ]
  },
  {
   "cell_type": "code",
   "execution_count": 2,
   "metadata": {},
   "outputs": [],
   "source": [
    "# import dataset from csv\n",
    "df = pd.read_csv(\"accepted_2007_to_2018Q4.csv\", low_memory=False)"
   ]
  },
  {
   "cell_type": "code",
   "execution_count": 3,
   "metadata": {},
   "outputs": [
    {
     "data": {
      "text/plain": [
       "(2260701, 151)"
      ]
     },
     "execution_count": 3,
     "metadata": {},
     "output_type": "execute_result"
    }
   ],
   "source": [
    "# number of col and shape of dataset\n",
    "df.shape"
   ]
  },
  {
   "cell_type": "markdown",
   "metadata": {},
   "source": [
    "### Cleaning target variable"
   ]
  },
  {
   "cell_type": "code",
   "execution_count": 4,
   "metadata": {},
   "outputs": [
    {
     "data": {
      "text/plain": [
       "Fully Paid                                             1076751\n",
       "Current                                                 878317\n",
       "Charged Off                                             268559\n",
       "Late (31-120 days)                                       21467\n",
       "In Grace Period                                           8436\n",
       "Late (16-30 days)                                         4349\n",
       "Does not meet the credit policy. Status:Fully Paid        1988\n",
       "Does not meet the credit policy. Status:Charged Off        761\n",
       "Default                                                     40\n",
       "Name: loan_status, dtype: int64"
      ]
     },
     "execution_count": 4,
     "metadata": {},
     "output_type": "execute_result"
    }
   ],
   "source": [
    "# target variable\n",
    "df.loan_status.value_counts()\n",
    "# need to select default and not default"
   ]
  },
  {
   "cell_type": "markdown",
   "metadata": {},
   "source": [
    "What Is a Default?\n",
    "Default is the failure to repay a debt, including interest or principal, on a loan or security. A default can occur when a borrower is unable to make timely payments, misses payments, or avoids or stops making payments. Individuals, businesses, and even countries can default if they cannot keep up their debt obligations. Default risks are often calculated well in advance by creditors."
   ]
  },
  {
   "cell_type": "code",
   "execution_count": 5,
   "metadata": {},
   "outputs": [],
   "source": [
    "# Choose \"Full paid\" and \"Current\" as \"Normal\" loan and the rest are Default\n",
    "# except'Does not meet the credit policy. Status:Fully Paid' and 'Does not meet the credit policy. Status:Charged Off'\n",
    "df_clean = df[~df[\"loan_status\"].isin(['Does not meet the credit policy. Status:Fully Paid',\n",
    "                                    'Does not meet the credit policy. Status:Charged Off'])]                                                               "
   ]
  },
  {
   "cell_type": "code",
   "execution_count": 6,
   "metadata": {},
   "outputs": [
    {
     "name": "stderr",
     "output_type": "stream",
     "text": [
      "/Library/Frameworks/Python.framework/Versions/3.8/lib/python3.8/site-packages/pandas/core/indexing.py:966: SettingWithCopyWarning: \n",
      "A value is trying to be set on a copy of a slice from a DataFrame.\n",
      "Try using .loc[row_indexer,col_indexer] = value instead\n",
      "\n",
      "See the caveats in the documentation: https://pandas.pydata.org/pandas-docs/stable/user_guide/indexing.html#returning-a-view-versus-a-copy\n",
      "  self.obj[item] = s\n"
     ]
    }
   ],
   "source": [
    "df_clean.loc[:, \"loan_status\"] = df_clean[\"loan_status\"].apply(lambda x: \"Normal\" if x in [\"Fully Paid\", \"Current\"] else \"Default\" )\n"
   ]
  },
  {
   "cell_type": "markdown",
   "metadata": {},
   "source": [
    "### Drop high missing value columns"
   ]
  },
  {
   "cell_type": "code",
   "execution_count": 7,
   "metadata": {
    "scrolled": false
   },
   "outputs": [
    {
     "data": {
      "text/plain": [
       "member_id                                     2260701\n",
       "orig_projected_additional_accrued_interest    2252050\n",
       "hardship_loan_status                          2249784\n",
       "hardship_dpd                                  2249784\n",
       "hardship_reason                               2249784\n",
       "                                               ...   \n",
       "initial_list_status                                33\n",
       "revol_bal                                          33\n",
       "hardship_flag                                      33\n",
       "fico_range_high                                    33\n",
       "id                                                  0\n",
       "Length: 151, dtype: int64"
      ]
     },
     "execution_count": 7,
     "metadata": {},
     "output_type": "execute_result"
    }
   ],
   "source": [
    "# have a look on missing value for each column\n",
    "df.isnull().sum().sort_values(ascending=False)"
   ]
  },
  {
   "cell_type": "code",
   "execution_count": 8,
   "metadata": {},
   "outputs": [],
   "source": [
    "# mean null value for all col\n",
    "mean_null_val = df.isnull().sum().mean()"
   ]
  },
  {
   "cell_type": "code",
   "execution_count": 9,
   "metadata": {},
   "outputs": [
    {
     "name": "stdout",
     "output_type": "stream",
     "text": [
      "Index(['member_id', 'orig_projected_additional_accrued_interest',\n",
      "       'hardship_loan_status', 'hardship_dpd', 'hardship_reason',\n",
      "       'hardship_status', 'deferral_term', 'hardship_amount',\n",
      "       'hardship_start_date', 'hardship_end_date', 'payment_plan_start_date',\n",
      "       'hardship_length', 'hardship_type', 'hardship_payoff_balance_amount',\n",
      "       'hardship_last_payment_amount', 'settlement_percentage',\n",
      "       'debt_settlement_flag_date', 'settlement_status', 'settlement_date',\n",
      "       'settlement_amount', 'settlement_term',\n",
      "       'sec_app_mths_since_last_major_derog', 'sec_app_revol_util',\n",
      "       'revol_bal_joint', 'sec_app_chargeoff_within_12_mths',\n",
      "       'sec_app_num_rev_accts', 'sec_app_open_act_il', 'sec_app_open_acc',\n",
      "       'sec_app_mort_acc', 'sec_app_inq_last_6mths',\n",
      "       'sec_app_earliest_cr_line', 'sec_app_fico_range_high',\n",
      "       'sec_app_fico_range_low', 'sec_app_collections_12_mths_ex_med',\n",
      "       'verification_status_joint', 'dti_joint', 'annual_inc_joint', 'desc',\n",
      "       'mths_since_last_record', 'mths_since_recent_bc_dlq',\n",
      "       'mths_since_last_major_derog', 'mths_since_recent_revol_delinq',\n",
      "       'next_pymnt_d', 'mths_since_last_delinq', 'il_util',\n",
      "       'mths_since_rcnt_il', 'all_util', 'open_acc_6m', 'total_cu_tl',\n",
      "       'inq_last_12m', 'open_il_12m', 'open_il_24m', 'total_bal_il',\n",
      "       'open_act_il', 'open_rv_12m', 'open_rv_24m', 'max_bal_bc', 'inq_fi'],\n",
      "      dtype='object')\n"
     ]
    }
   ],
   "source": [
    "# drop column which have missing value greater that 20%\n",
    "a = df_clean.isnull().sum().sort_values(ascending=False)\n",
    "drop_list = a[a>mean_null_val].index\n",
    "print(drop_list)\n",
    "df_clean = df_clean.drop(columns=drop_list)"
   ]
  },
  {
   "cell_type": "markdown",
   "metadata": {},
   "source": [
    "### Drop columns which have only one unique value"
   ]
  },
  {
   "cell_type": "code",
   "execution_count": 10,
   "metadata": {},
   "outputs": [
    {
     "name": "stdout",
     "output_type": "stream",
     "text": [
      "['policy_code']\n"
     ]
    }
   ],
   "source": [
    "# drop col that have only one values\n",
    "drop_list = []\n",
    "for i in df_clean.columns:\n",
    "    unique_val = df[i].drop_duplicates().count()\n",
    "    if unique_val <= 1:\n",
    "        drop_list.append(i)\n",
    "print(drop_list)\n",
    "df_clean = df_clean.drop(columns=drop_list)"
   ]
  },
  {
   "cell_type": "markdown",
   "metadata": {},
   "source": [
    "## II. Feature Engineer"
   ]
  },
  {
   "cell_type": "markdown",
   "metadata": {},
   "source": [
    "### Drop highly correlated feature"
   ]
  },
  {
   "cell_type": "code",
   "execution_count": 11,
   "metadata": {},
   "outputs": [],
   "source": [
    "# Check only column which are float\n",
    "list_col = []\n",
    "obj_col = df_clean.dtypes[df_clean.dtypes != \"object\"].index\n",
    "for i in df_clean[obj_col].columns:\n",
    "    if df_clean.loc[:,i].drop_duplicates().count() > 10:\n",
    "        list_col.append(i)\n",
    "df_corr = df_clean[list_col]"
   ]
  },
  {
   "cell_type": "code",
   "execution_count": 12,
   "metadata": {},
   "outputs": [
    {
     "data": {
      "text/html": [
       "<div>\n",
       "<style scoped>\n",
       "    .dataframe tbody tr th:only-of-type {\n",
       "        vertical-align: middle;\n",
       "    }\n",
       "\n",
       "    .dataframe tbody tr th {\n",
       "        vertical-align: top;\n",
       "    }\n",
       "\n",
       "    .dataframe thead th {\n",
       "        text-align: right;\n",
       "    }\n",
       "</style>\n",
       "<table border=\"1\" class=\"dataframe\">\n",
       "  <thead>\n",
       "    <tr style=\"text-align: right;\">\n",
       "      <th></th>\n",
       "      <th>feature1</th>\n",
       "      <th>feature2</th>\n",
       "      <th>corr</th>\n",
       "    </tr>\n",
       "  </thead>\n",
       "  <tbody>\n",
       "    <tr>\n",
       "      <th>1</th>\n",
       "      <td>fico_range_high</td>\n",
       "      <td>fico_range_low</td>\n",
       "      <td>1.000000</td>\n",
       "    </tr>\n",
       "    <tr>\n",
       "      <th>2</th>\n",
       "      <td>out_prncp_inv</td>\n",
       "      <td>out_prncp</td>\n",
       "      <td>0.999999</td>\n",
       "    </tr>\n",
       "    <tr>\n",
       "      <th>3</th>\n",
       "      <td>loan_amnt</td>\n",
       "      <td>funded_amnt</td>\n",
       "      <td>0.999764</td>\n",
       "    </tr>\n",
       "    <tr>\n",
       "      <th>4</th>\n",
       "      <td>total_pymnt_inv</td>\n",
       "      <td>total_pymnt</td>\n",
       "      <td>0.999539</td>\n",
       "    </tr>\n",
       "    <tr>\n",
       "      <th>5</th>\n",
       "      <td>funded_amnt_inv</td>\n",
       "      <td>funded_amnt</td>\n",
       "      <td>0.999513</td>\n",
       "    </tr>\n",
       "    <tr>\n",
       "      <th>6</th>\n",
       "      <td>loan_amnt</td>\n",
       "      <td>funded_amnt_inv</td>\n",
       "      <td>0.999228</td>\n",
       "    </tr>\n",
       "    <tr>\n",
       "      <th>7</th>\n",
       "      <td>num_sats</td>\n",
       "      <td>open_acc</td>\n",
       "      <td>0.998966</td>\n",
       "    </tr>\n",
       "    <tr>\n",
       "      <th>8</th>\n",
       "      <td>num_rev_tl_bal_gt_0</td>\n",
       "      <td>num_actv_rev_tl</td>\n",
       "      <td>0.983638</td>\n",
       "    </tr>\n",
       "    <tr>\n",
       "      <th>9</th>\n",
       "      <td>tot_hi_cred_lim</td>\n",
       "      <td>tot_cur_bal</td>\n",
       "      <td>0.975582</td>\n",
       "    </tr>\n",
       "    <tr>\n",
       "      <th>10</th>\n",
       "      <td>collection_recovery_fee</td>\n",
       "      <td>recoveries</td>\n",
       "      <td>0.971189</td>\n",
       "    </tr>\n",
       "    <tr>\n",
       "      <th>11</th>\n",
       "      <td>total_rec_prncp</td>\n",
       "      <td>total_pymnt</td>\n",
       "      <td>0.966213</td>\n",
       "    </tr>\n",
       "    <tr>\n",
       "      <th>12</th>\n",
       "      <td>total_rec_prncp</td>\n",
       "      <td>total_pymnt_inv</td>\n",
       "      <td>0.965732</td>\n",
       "    </tr>\n",
       "    <tr>\n",
       "      <th>13</th>\n",
       "      <td>funded_amnt</td>\n",
       "      <td>installment</td>\n",
       "      <td>0.945932</td>\n",
       "    </tr>\n",
       "    <tr>\n",
       "      <th>14</th>\n",
       "      <td>installment</td>\n",
       "      <td>loan_amnt</td>\n",
       "      <td>0.945599</td>\n",
       "    </tr>\n",
       "    <tr>\n",
       "      <th>15</th>\n",
       "      <td>installment</td>\n",
       "      <td>funded_amnt_inv</td>\n",
       "      <td>0.945309</td>\n",
       "    </tr>\n",
       "  </tbody>\n",
       "</table>\n",
       "</div>"
      ],
      "text/plain": [
       "                   feature1         feature2      corr\n",
       "1           fico_range_high   fico_range_low  1.000000\n",
       "2             out_prncp_inv        out_prncp  0.999999\n",
       "3                 loan_amnt      funded_amnt  0.999764\n",
       "4           total_pymnt_inv      total_pymnt  0.999539\n",
       "5           funded_amnt_inv      funded_amnt  0.999513\n",
       "6                 loan_amnt  funded_amnt_inv  0.999228\n",
       "7                  num_sats         open_acc  0.998966\n",
       "8       num_rev_tl_bal_gt_0  num_actv_rev_tl  0.983638\n",
       "9           tot_hi_cred_lim      tot_cur_bal  0.975582\n",
       "10  collection_recovery_fee       recoveries  0.971189\n",
       "11          total_rec_prncp      total_pymnt  0.966213\n",
       "12          total_rec_prncp  total_pymnt_inv  0.965732\n",
       "13              funded_amnt      installment  0.945932\n",
       "14              installment        loan_amnt  0.945599\n",
       "15              installment  funded_amnt_inv  0.945309"
      ]
     },
     "execution_count": 12,
     "metadata": {},
     "output_type": "execute_result"
    }
   ],
   "source": [
    "# unstacking correlation to check highest correlation pairs\n",
    "c = df_corr.corr().abs()\n",
    "unstack_corr = c.unstack()\n",
    "pairs = unstack_corr.sort_values(ascending=False)\n",
    "\n",
    "corr_pairs = pd.DataFrame(pairs).drop_duplicates().reset_index()\n",
    "corr_pairs.columns = ['feature1', 'feature2', 'corr']\n",
    "\n",
    "# check feature pairs above 0.9 in correlation\n",
    "\n",
    "cond1 = (corr_pairs.feature1 != corr_pairs.feature2)\n",
    "cond2 = (corr_pairs['corr']>0.9)\n",
    "\n",
    "corr_pairs[cond1 & cond2]"
   ]
  },
  {
   "cell_type": "code",
   "execution_count": 13,
   "metadata": {},
   "outputs": [],
   "source": [
    "# define func for plot correlated column\n",
    "def scatter_plot(df):\n",
    "    _, ncol = df.shape\n",
    "    if ncol > 2:\n",
    "        fig, axs = plt.subplots(1, ncol-1, figsize=(5*(ncol-1),5), sharey=True)\n",
    "        for i in range(ncol-1):\n",
    "            axs[i].set_ylabel(df.columns[0])\n",
    "            axs[i].set_xlabel(df.columns[i+1])\n",
    "            axs[i].set_title(f\"{df.columns[0]} vs {df.columns[i+1]}\")\n",
    "            axs[i].scatter(df.iloc[:, i+1], df.iloc[:,0])\n",
    "    elif ncol == 2:\n",
    "        fig, ax = plt.subplots(figsize=(5,5))\n",
    "        ax.scatter(df.iloc[:, 1], df.iloc[:,0])\n",
    "        ax.set_ylabel(df.columns[0])\n",
    "        ax.set_xlabel(df.columns[1])\n",
    "        ax.set_title(f\"{df.columns[1]} vs {df.columns[0]}\")\n",
    "    plt.show()"
   ]
  },
  {
   "cell_type": "code",
   "execution_count": 14,
   "metadata": {},
   "outputs": [
    {
     "data": {
      "image/png": "[encoded data removed]",
      "text/plain": [
       "<Figure size 360x360 with 1 Axes>"
      ]
     },
     "metadata": {
      "needs_background": "light"
     },
     "output_type": "display_data"
    }
   ],
   "source": [
    "# check fico_range_high and fico_range_low correlation\n",
    "scatter_plot(df_corr[[\"fico_range_high\", \"fico_range_low\"]])"
   ]
  },
  {
   "cell_type": "code",
   "execution_count": 15,
   "metadata": {},
   "outputs": [],
   "source": [
    "# drop one of them in this case drop fico_range_low\n",
    "df_clean = df_clean.drop(columns=\"fico_range_low\")"
   ]
  },
  {
   "cell_type": "code",
   "execution_count": 16,
   "metadata": {},
   "outputs": [
    {
     "data": {
      "image/png": "[encoded data removed]",
      "text/plain": [
       "<Figure size 360x360 with 1 Axes>"
      ]
     },
     "metadata": {
      "needs_background": "light"
     },
     "output_type": "display_data"
    }
   ],
   "source": [
    "# check \"out_prncp\", \"out_prncp_inv\" correlation\n",
    "scatter_plot(df_corr[[\"out_prncp\", \"out_prncp_inv\"]])"
   ]
  },
  {
   "cell_type": "code",
   "execution_count": 17,
   "metadata": {},
   "outputs": [],
   "source": [
    "# drop one of them in this case drop out_prncp_inv\n",
    "df_clean = df_clean.drop(columns=\"out_prncp_inv\")"
   ]
  },
  {
   "cell_type": "code",
   "execution_count": 18,
   "metadata": {},
   "outputs": [
    {
     "data": {
      "image/png": "[encoded data removed]",
      "text/plain": [
       "<Figure size 1080x360 with 3 Axes>"
      ]
     },
     "metadata": {
      "needs_background": "light"
     },
     "output_type": "display_data"
    }
   ],
   "source": [
    "# check \"funded_amnt\", \"loan_amnt\", \"funded_amnt_inv\", \"installment\" correlation\n",
    "scatter_plot(df_corr[[\"loan_amnt\", \"funded_amnt\", \"funded_amnt_inv\", \"installment\"]])"
   ]
  },
  {
   "cell_type": "code",
   "execution_count": 19,
   "metadata": {},
   "outputs": [],
   "source": [
    "# keep only loan_amnt\n",
    "df_clean = df_clean.drop(columns=[\"funded_amnt\", \"funded_amnt_inv\", \"installment\"])"
   ]
  },
  {
   "cell_type": "code",
   "execution_count": 20,
   "metadata": {},
   "outputs": [
    {
     "data": {
      "image/png": "[encoded data removed]",
      "text/plain": [
       "<Figure size 720x360 with 2 Axes>"
      ]
     },
     "metadata": {
      "needs_background": "light"
     },
     "output_type": "display_data"
    }
   ],
   "source": [
    "# check \"total_pymnt_inv\", \"total_pymnt\", \"total_rec_prncp\" correlation\n",
    "scatter_plot(df_corr[[\"total_pymnt\", \"total_pymnt_inv\", \"total_rec_prncp\"]])"
   ]
  },
  {
   "cell_type": "code",
   "execution_count": 21,
   "metadata": {},
   "outputs": [],
   "source": [
    "# keep only total_pymnt\n",
    "df_clean = df_clean.drop(columns=[\"total_pymnt_inv\", \"total_rec_prncp\"])"
   ]
  },
  {
   "cell_type": "code",
   "execution_count": 22,
   "metadata": {
    "scrolled": true
   },
   "outputs": [
    {
     "data": {
      "image/png": "[encoded data removed]",
      "text/plain": [
       "<Figure size 360x360 with 1 Axes>"
      ]
     },
     "metadata": {
      "needs_background": "light"
     },
     "output_type": "display_data"
    }
   ],
   "source": [
    "# check \"num_sats\", \"open_acc\" correlation\n",
    "scatter_plot(df_corr[[\"open_acc\", \"num_sats\"]])"
   ]
  },
  {
   "cell_type": "code",
   "execution_count": 23,
   "metadata": {},
   "outputs": [],
   "source": [
    "# drop num_sats\n",
    "df_clean = df_clean.drop(columns=[\"num_sats\"])"
   ]
  },
  {
   "cell_type": "code",
   "execution_count": 24,
   "metadata": {},
   "outputs": [
    {
     "data": {
      "image/png": "[encoded data removed]",
      "text/plain": [
       "<Figure size 360x360 with 1 Axes>"
      ]
     },
     "metadata": {
      "needs_background": "light"
     },
     "output_type": "display_data"
    }
   ],
   "source": [
    "# check \"num_actv_rev_tl\", \"num_rev_tl_bal_gt_0\" correlation\n",
    "scatter_plot(df_corr[[\"num_actv_rev_tl\", \"num_rev_tl_bal_gt_0\"]])"
   ]
  },
  {
   "cell_type": "code",
   "execution_count": 25,
   "metadata": {},
   "outputs": [],
   "source": [
    "# drop num_rev_tl_bal_gt_0\n",
    "df_clean = df_clean.drop(columns=[\"num_rev_tl_bal_gt_0\"])"
   ]
  },
  {
   "cell_type": "code",
   "execution_count": 26,
   "metadata": {},
   "outputs": [
    {
     "data": {
      "image/png": "[encoded data removed]",
      "text/plain": [
       "<Figure size 360x360 with 1 Axes>"
      ]
     },
     "metadata": {
      "needs_background": "light"
     },
     "output_type": "display_data"
    }
   ],
   "source": [
    "# check \"collection_recovery_fee\", \"recoveries\" correlation\n",
    "scatter_plot(df_corr[[\"collection_recovery_fee\", \"recoveries\"]])"
   ]
  },
  {
   "cell_type": "code",
   "execution_count": 27,
   "metadata": {},
   "outputs": [],
   "source": [
    "# drop num_rev_tl_bal_gt_0\n",
    "df_clean = df_clean.drop(columns=[\"collection_recovery_fee\"])"
   ]
  },
  {
   "cell_type": "code",
   "execution_count": 28,
   "metadata": {},
   "outputs": [
    {
     "data": {
      "image/png": "[encoded data removed]",
      "text/plain": [
       "<Figure size 360x360 with 1 Axes>"
      ]
     },
     "metadata": {
      "needs_background": "light"
     },
     "output_type": "display_data"
    }
   ],
   "source": [
    "# check \"tot_hi_cred_lim\", \"tot_cur_bal\" correlation\n",
    "scatter_plot(df_corr[[\"tot_hi_cred_lim\", \"tot_cur_bal\"]])"
   ]
  },
  {
   "cell_type": "code",
   "execution_count": 29,
   "metadata": {},
   "outputs": [],
   "source": [
    "# drop tot_hi_cred_lim\n",
    "df_clean = df_clean.drop(columns=[\"tot_hi_cred_lim\"])"
   ]
  },
  {
   "cell_type": "code",
   "execution_count": 30,
   "metadata": {},
   "outputs": [
    {
     "data": {
      "text/plain": [
       "(2257952, 81)"
      ]
     },
     "execution_count": 30,
     "metadata": {},
     "output_type": "execute_result"
    }
   ],
   "source": [
    "# check dataset shape again\n",
    "df_clean.shape"
   ]
  },
  {
   "cell_type": "markdown",
   "metadata": {},
   "source": [
    "### Drop object column which irrelavant"
   ]
  },
  {
   "cell_type": "code",
   "execution_count": 31,
   "metadata": {},
   "outputs": [
    {
     "data": {
      "text/plain": [
       "(24,)"
      ]
     },
     "execution_count": 31,
     "metadata": {},
     "output_type": "execute_result"
    }
   ],
   "source": [
    "# take a look at object col\n",
    "df_clean.dtypes[df_clean.dtypes == \"object\"].shape"
   ]
  },
  {
   "cell_type": "code",
   "execution_count": 32,
   "metadata": {},
   "outputs": [
    {
     "data": {
      "text/html": [
       "<div>\n",
       "<style scoped>\n",
       "    .dataframe tbody tr th:only-of-type {\n",
       "        vertical-align: middle;\n",
       "    }\n",
       "\n",
       "    .dataframe tbody tr th {\n",
       "        vertical-align: top;\n",
       "    }\n",
       "\n",
       "    .dataframe thead th {\n",
       "        text-align: right;\n",
       "    }\n",
       "</style>\n",
       "<table border=\"1\" class=\"dataframe\">\n",
       "  <thead>\n",
       "    <tr style=\"text-align: right;\">\n",
       "      <th></th>\n",
       "      <th>id</th>\n",
       "      <th>sub_grade</th>\n",
       "      <th>emp_title</th>\n",
       "      <th>emp_length</th>\n",
       "      <th>issue_d</th>\n",
       "      <th>url</th>\n",
       "      <th>purpose</th>\n",
       "      <th>title</th>\n",
       "      <th>zip_code</th>\n",
       "      <th>addr_state</th>\n",
       "      <th>earliest_cr_line</th>\n",
       "      <th>last_pymnt_d</th>\n",
       "      <th>last_credit_pull_d</th>\n",
       "    </tr>\n",
       "  </thead>\n",
       "  <tbody>\n",
       "    <tr>\n",
       "      <th>0</th>\n",
       "      <td>68407277</td>\n",
       "      <td>C4</td>\n",
       "      <td>leadman</td>\n",
       "      <td>10+ years</td>\n",
       "      <td>Dec-2015</td>\n",
       "      <td>https://lendingclub.com/browse/loanDetail.acti...</td>\n",
       "      <td>debt_consolidation</td>\n",
       "      <td>Debt consolidation</td>\n",
       "      <td>190xx</td>\n",
       "      <td>PA</td>\n",
       "      <td>Aug-2003</td>\n",
       "      <td>Jan-2019</td>\n",
       "      <td>Mar-2019</td>\n",
       "    </tr>\n",
       "    <tr>\n",
       "      <th>1</th>\n",
       "      <td>68355089</td>\n",
       "      <td>C1</td>\n",
       "      <td>Engineer</td>\n",
       "      <td>10+ years</td>\n",
       "      <td>Dec-2015</td>\n",
       "      <td>https://lendingclub.com/browse/loanDetail.acti...</td>\n",
       "      <td>small_business</td>\n",
       "      <td>Business</td>\n",
       "      <td>577xx</td>\n",
       "      <td>SD</td>\n",
       "      <td>Dec-1999</td>\n",
       "      <td>Jun-2016</td>\n",
       "      <td>Mar-2019</td>\n",
       "    </tr>\n",
       "    <tr>\n",
       "      <th>2</th>\n",
       "      <td>68341763</td>\n",
       "      <td>B4</td>\n",
       "      <td>truck driver</td>\n",
       "      <td>10+ years</td>\n",
       "      <td>Dec-2015</td>\n",
       "      <td>https://lendingclub.com/browse/loanDetail.acti...</td>\n",
       "      <td>home_improvement</td>\n",
       "      <td>NaN</td>\n",
       "      <td>605xx</td>\n",
       "      <td>IL</td>\n",
       "      <td>Aug-2000</td>\n",
       "      <td>Jun-2017</td>\n",
       "      <td>Mar-2019</td>\n",
       "    </tr>\n",
       "    <tr>\n",
       "      <th>3</th>\n",
       "      <td>66310712</td>\n",
       "      <td>C5</td>\n",
       "      <td>Information Systems Officer</td>\n",
       "      <td>10+ years</td>\n",
       "      <td>Dec-2015</td>\n",
       "      <td>https://lendingclub.com/browse/loanDetail.acti...</td>\n",
       "      <td>debt_consolidation</td>\n",
       "      <td>Debt consolidation</td>\n",
       "      <td>076xx</td>\n",
       "      <td>NJ</td>\n",
       "      <td>Sep-2008</td>\n",
       "      <td>Feb-2019</td>\n",
       "      <td>Mar-2019</td>\n",
       "    </tr>\n",
       "    <tr>\n",
       "      <th>4</th>\n",
       "      <td>68476807</td>\n",
       "      <td>F1</td>\n",
       "      <td>Contract Specialist</td>\n",
       "      <td>3 years</td>\n",
       "      <td>Dec-2015</td>\n",
       "      <td>https://lendingclub.com/browse/loanDetail.acti...</td>\n",
       "      <td>major_purchase</td>\n",
       "      <td>Major purchase</td>\n",
       "      <td>174xx</td>\n",
       "      <td>PA</td>\n",
       "      <td>Jun-1998</td>\n",
       "      <td>Jul-2016</td>\n",
       "      <td>Mar-2018</td>\n",
       "    </tr>\n",
       "  </tbody>\n",
       "</table>\n",
       "</div>"
      ],
      "text/plain": [
       "         id sub_grade                    emp_title emp_length   issue_d  \\\n",
       "0  68407277        C4                      leadman  10+ years  Dec-2015   \n",
       "1  68355089        C1                     Engineer  10+ years  Dec-2015   \n",
       "2  68341763        B4                 truck driver  10+ years  Dec-2015   \n",
       "3  66310712        C5  Information Systems Officer  10+ years  Dec-2015   \n",
       "4  68476807        F1          Contract Specialist    3 years  Dec-2015   \n",
       "\n",
       "                                                 url             purpose  \\\n",
       "0  https://lendingclub.com/browse/loanDetail.acti...  debt_consolidation   \n",
       "1  https://lendingclub.com/browse/loanDetail.acti...      small_business   \n",
       "2  https://lendingclub.com/browse/loanDetail.acti...    home_improvement   \n",
       "3  https://lendingclub.com/browse/loanDetail.acti...  debt_consolidation   \n",
       "4  https://lendingclub.com/browse/loanDetail.acti...      major_purchase   \n",
       "\n",
       "                title zip_code addr_state earliest_cr_line last_pymnt_d  \\\n",
       "0  Debt consolidation    190xx         PA         Aug-2003     Jan-2019   \n",
       "1            Business    577xx         SD         Dec-1999     Jun-2016   \n",
       "2                 NaN    605xx         IL         Aug-2000     Jun-2017   \n",
       "3  Debt consolidation    076xx         NJ         Sep-2008     Feb-2019   \n",
       "4      Major purchase    174xx         PA         Jun-1998     Jul-2016   \n",
       "\n",
       "  last_credit_pull_d  \n",
       "0           Mar-2019  \n",
       "1           Mar-2019  \n",
       "2           Mar-2019  \n",
       "3           Mar-2019  \n",
       "4           Mar-2018  "
      ]
     },
     "execution_count": 32,
     "metadata": {},
     "output_type": "execute_result"
    }
   ],
   "source": [
    "# take a look at col which have unique value greater that 10\n",
    "list_col = []\n",
    "obj_col = df_clean.dtypes[df_clean.dtypes == \"object\"].index\n",
    "for i in df_clean[obj_col].columns:\n",
    "    if df_clean.loc[:,i].drop_duplicates().count() > 10:\n",
    "        list_col.append(i)\n",
    "df_clean[list_col].head()"
   ]
  },
  {
   "cell_type": "code",
   "execution_count": 33,
   "metadata": {
    "scrolled": true
   },
   "outputs": [
    {
     "data": {
      "text/plain": [
       "Teacher                                 38824\n",
       "Manager                                 34298\n",
       "Owner                                   21977\n",
       "Registered Nurse                        15867\n",
       "Driver                                  14753\n",
       "                                        ...  \n",
       "tax Preparer                                1\n",
       "Photo Editor Consultant                     1\n",
       "County executive director                   1\n",
       "DOJ OIA Law Clerk                           1\n",
       "Director, Business and Legal Affairs        1\n",
       "Name: emp_title, Length: 511193, dtype: int64"
      ]
     },
     "execution_count": 33,
     "metadata": {},
     "output_type": "execute_result"
    }
   ],
   "source": [
    "df_clean[\"emp_title\"].value_counts()"
   ]
  },
  {
   "cell_type": "code",
   "execution_count": 34,
   "metadata": {},
   "outputs": [
    {
     "data": {
      "text/plain": [
       "Debt consolidation                         1153280\n",
       "Credit card refinancing                     469690\n",
       "Home improvement                            137430\n",
       "Other                                       127714\n",
       "Major purchase                               44840\n",
       "                                            ...   \n",
       "Las Vegas                                        1\n",
       "Loan Credit Card                                 1\n",
       "2013 PLAN                                        1\n",
       "credit card consolidation plus personal          1\n",
       "Debt Consol Lending Club                         1\n",
       "Name: title, Length: 61685, dtype: int64"
      ]
     },
     "execution_count": 34,
     "metadata": {},
     "output_type": "execute_result"
    }
   ],
   "source": [
    "df_clean[\"title\"].value_counts()"
   ]
  },
  {
   "cell_type": "code",
   "execution_count": 35,
   "metadata": {},
   "outputs": [],
   "source": [
    "# drop all except [\"sub_grade\", \"purpose\", \"addr_state\" ,\"emp_length\"]\n",
    "list_col = []\n",
    "obj_col = df_clean.dtypes[df_clean.dtypes == \"object\"].index\n",
    "for i in df_clean[obj_col].columns:\n",
    "    if df_clean.loc[:,i].drop_duplicates().count() > 10:\n",
    "        list_col.append(i)\n",
    "drop_list = [i for i in list_col if i not in [\"sub_grade\", \n",
    "                                              \"purpose\", \n",
    "                                              \"emp_length\",\n",
    "                                              \"addr_state\"]]\n",
    "df_clean = df_clean.drop(columns=drop_list)"
   ]
  },
  {
   "cell_type": "code",
   "execution_count": 36,
   "metadata": {},
   "outputs": [
    {
     "data": {
      "text/html": [
       "<div>\n",
       "<style scoped>\n",
       "    .dataframe tbody tr th:only-of-type {\n",
       "        vertical-align: middle;\n",
       "    }\n",
       "\n",
       "    .dataframe tbody tr th {\n",
       "        vertical-align: top;\n",
       "    }\n",
       "\n",
       "    .dataframe thead th {\n",
       "        text-align: right;\n",
       "    }\n",
       "</style>\n",
       "<table border=\"1\" class=\"dataframe\">\n",
       "  <thead>\n",
       "    <tr style=\"text-align: right;\">\n",
       "      <th></th>\n",
       "      <th>term</th>\n",
       "      <th>grade</th>\n",
       "      <th>sub_grade</th>\n",
       "      <th>emp_length</th>\n",
       "      <th>home_ownership</th>\n",
       "      <th>verification_status</th>\n",
       "      <th>loan_status</th>\n",
       "      <th>pymnt_plan</th>\n",
       "      <th>purpose</th>\n",
       "      <th>addr_state</th>\n",
       "      <th>initial_list_status</th>\n",
       "      <th>application_type</th>\n",
       "      <th>hardship_flag</th>\n",
       "      <th>disbursement_method</th>\n",
       "      <th>debt_settlement_flag</th>\n",
       "    </tr>\n",
       "  </thead>\n",
       "  <tbody>\n",
       "    <tr>\n",
       "      <th>0</th>\n",
       "      <td>36 months</td>\n",
       "      <td>C</td>\n",
       "      <td>C4</td>\n",
       "      <td>10+ years</td>\n",
       "      <td>MORTGAGE</td>\n",
       "      <td>Not Verified</td>\n",
       "      <td>Normal</td>\n",
       "      <td>n</td>\n",
       "      <td>debt_consolidation</td>\n",
       "      <td>PA</td>\n",
       "      <td>w</td>\n",
       "      <td>Individual</td>\n",
       "      <td>N</td>\n",
       "      <td>Cash</td>\n",
       "      <td>N</td>\n",
       "    </tr>\n",
       "    <tr>\n",
       "      <th>1</th>\n",
       "      <td>36 months</td>\n",
       "      <td>C</td>\n",
       "      <td>C1</td>\n",
       "      <td>10+ years</td>\n",
       "      <td>MORTGAGE</td>\n",
       "      <td>Not Verified</td>\n",
       "      <td>Normal</td>\n",
       "      <td>n</td>\n",
       "      <td>small_business</td>\n",
       "      <td>SD</td>\n",
       "      <td>w</td>\n",
       "      <td>Individual</td>\n",
       "      <td>N</td>\n",
       "      <td>Cash</td>\n",
       "      <td>N</td>\n",
       "    </tr>\n",
       "    <tr>\n",
       "      <th>2</th>\n",
       "      <td>60 months</td>\n",
       "      <td>B</td>\n",
       "      <td>B4</td>\n",
       "      <td>10+ years</td>\n",
       "      <td>MORTGAGE</td>\n",
       "      <td>Not Verified</td>\n",
       "      <td>Normal</td>\n",
       "      <td>n</td>\n",
       "      <td>home_improvement</td>\n",
       "      <td>IL</td>\n",
       "      <td>w</td>\n",
       "      <td>Joint App</td>\n",
       "      <td>N</td>\n",
       "      <td>Cash</td>\n",
       "      <td>N</td>\n",
       "    </tr>\n",
       "    <tr>\n",
       "      <th>3</th>\n",
       "      <td>60 months</td>\n",
       "      <td>C</td>\n",
       "      <td>C5</td>\n",
       "      <td>10+ years</td>\n",
       "      <td>MORTGAGE</td>\n",
       "      <td>Source Verified</td>\n",
       "      <td>Normal</td>\n",
       "      <td>n</td>\n",
       "      <td>debt_consolidation</td>\n",
       "      <td>NJ</td>\n",
       "      <td>w</td>\n",
       "      <td>Individual</td>\n",
       "      <td>N</td>\n",
       "      <td>Cash</td>\n",
       "      <td>N</td>\n",
       "    </tr>\n",
       "    <tr>\n",
       "      <th>4</th>\n",
       "      <td>60 months</td>\n",
       "      <td>F</td>\n",
       "      <td>F1</td>\n",
       "      <td>3 years</td>\n",
       "      <td>MORTGAGE</td>\n",
       "      <td>Source Verified</td>\n",
       "      <td>Normal</td>\n",
       "      <td>n</td>\n",
       "      <td>major_purchase</td>\n",
       "      <td>PA</td>\n",
       "      <td>w</td>\n",
       "      <td>Individual</td>\n",
       "      <td>N</td>\n",
       "      <td>Cash</td>\n",
       "      <td>N</td>\n",
       "    </tr>\n",
       "  </tbody>\n",
       "</table>\n",
       "</div>"
      ],
      "text/plain": [
       "         term grade sub_grade emp_length home_ownership verification_status  \\\n",
       "0   36 months     C        C4  10+ years       MORTGAGE        Not Verified   \n",
       "1   36 months     C        C1  10+ years       MORTGAGE        Not Verified   \n",
       "2   60 months     B        B4  10+ years       MORTGAGE        Not Verified   \n",
       "3   60 months     C        C5  10+ years       MORTGAGE     Source Verified   \n",
       "4   60 months     F        F1    3 years       MORTGAGE     Source Verified   \n",
       "\n",
       "  loan_status pymnt_plan             purpose addr_state initial_list_status  \\\n",
       "0      Normal          n  debt_consolidation         PA                   w   \n",
       "1      Normal          n      small_business         SD                   w   \n",
       "2      Normal          n    home_improvement         IL                   w   \n",
       "3      Normal          n  debt_consolidation         NJ                   w   \n",
       "4      Normal          n      major_purchase         PA                   w   \n",
       "\n",
       "  application_type hardship_flag disbursement_method debt_settlement_flag  \n",
       "0       Individual             N                Cash                    N  \n",
       "1       Individual             N                Cash                    N  \n",
       "2        Joint App             N                Cash                    N  \n",
       "3       Individual             N                Cash                    N  \n",
       "4       Individual             N                Cash                    N  "
      ]
     },
     "execution_count": 36,
     "metadata": {},
     "output_type": "execute_result"
    }
   ],
   "source": [
    "# take a look at object col again\n",
    "obj_col = df_clean.dtypes[df_clean.dtypes == \"object\"].index\n",
    "df_clean[obj_col].head()"
   ]
  },
  {
   "cell_type": "code",
   "execution_count": 37,
   "metadata": {},
   "outputs": [
    {
     "data": {
      "text/plain": [
       "(2257952, 72)"
      ]
     },
     "execution_count": 37,
     "metadata": {},
     "output_type": "execute_result"
    }
   ],
   "source": [
    "# chech data shape again\n",
    "df_clean.shape"
   ]
  },
  {
   "cell_type": "markdown",
   "metadata": {},
   "source": [
    "### Drop N/A rows"
   ]
  },
  {
   "cell_type": "code",
   "execution_count": 38,
   "metadata": {},
   "outputs": [
    {
     "data": {
      "text/plain": [
       "(1684854, 72)"
      ]
     },
     "execution_count": 38,
     "metadata": {},
     "output_type": "execute_result"
    }
   ],
   "source": [
    "df_clean.dropna().shape"
   ]
  },
  {
   "cell_type": "code",
   "execution_count": 39,
   "metadata": {},
   "outputs": [],
   "source": [
    "df_clean = df_clean.dropna()"
   ]
  },
  {
   "cell_type": "markdown",
   "metadata": {},
   "source": [
    "### Dtype conversion from object to float"
   ]
  },
  {
   "cell_type": "code",
   "execution_count": 40,
   "metadata": {},
   "outputs": [
    {
     "data": {
      "text/html": [
       "<div>\n",
       "<style scoped>\n",
       "    .dataframe tbody tr th:only-of-type {\n",
       "        vertical-align: middle;\n",
       "    }\n",
       "\n",
       "    .dataframe tbody tr th {\n",
       "        vertical-align: top;\n",
       "    }\n",
       "\n",
       "    .dataframe thead th {\n",
       "        text-align: right;\n",
       "    }\n",
       "</style>\n",
       "<table border=\"1\" class=\"dataframe\">\n",
       "  <thead>\n",
       "    <tr style=\"text-align: right;\">\n",
       "      <th></th>\n",
       "      <th>term</th>\n",
       "      <th>grade</th>\n",
       "      <th>sub_grade</th>\n",
       "      <th>emp_length</th>\n",
       "      <th>home_ownership</th>\n",
       "      <th>verification_status</th>\n",
       "      <th>loan_status</th>\n",
       "      <th>pymnt_plan</th>\n",
       "      <th>purpose</th>\n",
       "      <th>addr_state</th>\n",
       "      <th>initial_list_status</th>\n",
       "      <th>application_type</th>\n",
       "      <th>hardship_flag</th>\n",
       "      <th>disbursement_method</th>\n",
       "      <th>debt_settlement_flag</th>\n",
       "    </tr>\n",
       "  </thead>\n",
       "  <tbody>\n",
       "    <tr>\n",
       "      <th>0</th>\n",
       "      <td>36 months</td>\n",
       "      <td>C</td>\n",
       "      <td>C4</td>\n",
       "      <td>10+ years</td>\n",
       "      <td>MORTGAGE</td>\n",
       "      <td>Not Verified</td>\n",
       "      <td>Normal</td>\n",
       "      <td>n</td>\n",
       "      <td>debt_consolidation</td>\n",
       "      <td>PA</td>\n",
       "      <td>w</td>\n",
       "      <td>Individual</td>\n",
       "      <td>N</td>\n",
       "      <td>Cash</td>\n",
       "      <td>N</td>\n",
       "    </tr>\n",
       "    <tr>\n",
       "      <th>1</th>\n",
       "      <td>36 months</td>\n",
       "      <td>C</td>\n",
       "      <td>C1</td>\n",
       "      <td>10+ years</td>\n",
       "      <td>MORTGAGE</td>\n",
       "      <td>Not Verified</td>\n",
       "      <td>Normal</td>\n",
       "      <td>n</td>\n",
       "      <td>small_business</td>\n",
       "      <td>SD</td>\n",
       "      <td>w</td>\n",
       "      <td>Individual</td>\n",
       "      <td>N</td>\n",
       "      <td>Cash</td>\n",
       "      <td>N</td>\n",
       "    </tr>\n",
       "    <tr>\n",
       "      <th>2</th>\n",
       "      <td>60 months</td>\n",
       "      <td>B</td>\n",
       "      <td>B4</td>\n",
       "      <td>10+ years</td>\n",
       "      <td>MORTGAGE</td>\n",
       "      <td>Not Verified</td>\n",
       "      <td>Normal</td>\n",
       "      <td>n</td>\n",
       "      <td>home_improvement</td>\n",
       "      <td>IL</td>\n",
       "      <td>w</td>\n",
       "      <td>Joint App</td>\n",
       "      <td>N</td>\n",
       "      <td>Cash</td>\n",
       "      <td>N</td>\n",
       "    </tr>\n",
       "    <tr>\n",
       "      <th>4</th>\n",
       "      <td>60 months</td>\n",
       "      <td>F</td>\n",
       "      <td>F1</td>\n",
       "      <td>3 years</td>\n",
       "      <td>MORTGAGE</td>\n",
       "      <td>Source Verified</td>\n",
       "      <td>Normal</td>\n",
       "      <td>n</td>\n",
       "      <td>major_purchase</td>\n",
       "      <td>PA</td>\n",
       "      <td>w</td>\n",
       "      <td>Individual</td>\n",
       "      <td>N</td>\n",
       "      <td>Cash</td>\n",
       "      <td>N</td>\n",
       "    </tr>\n",
       "    <tr>\n",
       "      <th>6</th>\n",
       "      <td>36 months</td>\n",
       "      <td>B</td>\n",
       "      <td>B2</td>\n",
       "      <td>10+ years</td>\n",
       "      <td>MORTGAGE</td>\n",
       "      <td>Not Verified</td>\n",
       "      <td>Normal</td>\n",
       "      <td>n</td>\n",
       "      <td>debt_consolidation</td>\n",
       "      <td>MN</td>\n",
       "      <td>f</td>\n",
       "      <td>Individual</td>\n",
       "      <td>N</td>\n",
       "      <td>Cash</td>\n",
       "      <td>N</td>\n",
       "    </tr>\n",
       "  </tbody>\n",
       "</table>\n",
       "</div>"
      ],
      "text/plain": [
       "         term grade sub_grade emp_length home_ownership verification_status  \\\n",
       "0   36 months     C        C4  10+ years       MORTGAGE        Not Verified   \n",
       "1   36 months     C        C1  10+ years       MORTGAGE        Not Verified   \n",
       "2   60 months     B        B4  10+ years       MORTGAGE        Not Verified   \n",
       "4   60 months     F        F1    3 years       MORTGAGE     Source Verified   \n",
       "6   36 months     B        B2  10+ years       MORTGAGE        Not Verified   \n",
       "\n",
       "  loan_status pymnt_plan             purpose addr_state initial_list_status  \\\n",
       "0      Normal          n  debt_consolidation         PA                   w   \n",
       "1      Normal          n      small_business         SD                   w   \n",
       "2      Normal          n    home_improvement         IL                   w   \n",
       "4      Normal          n      major_purchase         PA                   w   \n",
       "6      Normal          n  debt_consolidation         MN                   f   \n",
       "\n",
       "  application_type hardship_flag disbursement_method debt_settlement_flag  \n",
       "0       Individual             N                Cash                    N  \n",
       "1       Individual             N                Cash                    N  \n",
       "2        Joint App             N                Cash                    N  \n",
       "4       Individual             N                Cash                    N  \n",
       "6       Individual             N                Cash                    N  "
      ]
     },
     "execution_count": 40,
     "metadata": {},
     "output_type": "execute_result"
    }
   ],
   "source": [
    "# take alook at obj col one more time\n",
    "obj_col = df_clean.dtypes[df_clean.dtypes == \"object\"].index\n",
    "df_clean[obj_col].head()"
   ]
  },
  {
   "cell_type": "code",
   "execution_count": 41,
   "metadata": {},
   "outputs": [
    {
     "data": {
      "text/plain": [
       " 36 months    1177503\n",
       " 60 months     507351\n",
       "Name: term, dtype: int64"
      ]
     },
     "execution_count": 41,
     "metadata": {},
     "output_type": "execute_result"
    }
   ],
   "source": [
    "# check term value count\n",
    "df_clean[\"term\"].value_counts()"
   ]
  },
  {
   "cell_type": "code",
   "execution_count": 42,
   "metadata": {},
   "outputs": [],
   "source": [
    "# convert term to float\n",
    "df_clean.term = df_clean[\"term\"].str.replace(\"months\", \"\").astype(float)"
   ]
  },
  {
   "cell_type": "code",
   "execution_count": 43,
   "metadata": {
    "scrolled": true
   },
   "outputs": [
    {
     "data": {
      "text/plain": [
       "10+ years    600088\n",
       "2 years      162731\n",
       "< 1 year     148198\n",
       "3 years      144266\n",
       "1 year       117368\n",
       "5 years      110544\n",
       "4 years      108420\n",
       "6 years       81546\n",
       "7 years       74162\n",
       "8 years       73858\n",
       "9 years       63673\n",
       "Name: emp_length, dtype: int64"
      ]
     },
     "execution_count": 43,
     "metadata": {},
     "output_type": "execute_result"
    }
   ],
   "source": [
    "# check emp_length value count\n",
    "df_clean[\"emp_length\"].value_counts()"
   ]
  },
  {
   "cell_type": "code",
   "execution_count": 44,
   "metadata": {},
   "outputs": [],
   "source": [
    "# convert emp_length to float\n",
    "dic = dict(zip(df_clean[\"emp_length\"].value_counts().sort_index().index,[1 ,10 ,2 ,3 ,4 ,5 ,6 ,7 ,8 ,9 ,0]))\n",
    "df_clean.loc[:, \"emp_length\"] = df_clean[\"emp_length\"].map(dic).astype(float)\n"
   ]
  },
  {
   "cell_type": "markdown",
   "metadata": {},
   "source": [
    "### Remove outlier"
   ]
  },
  {
   "cell_type": "code",
   "execution_count": 45,
   "metadata": {},
   "outputs": [],
   "source": [
    "# remove outlier\n",
    "from scipy import stats\n",
    "df_zscore = df_clean[df_clean.columns[(df_clean.dtypes == \"float\") & (df_clean.columns != \"loan_status\")]]\n",
    "z_scores = stats.zscore(df_zscore)\n",
    "abs_z_scores = np.abs(z_scores)\n",
    "filtered_entries = (abs_z_scores < 3).all(axis=1)"
   ]
  },
  {
   "cell_type": "code",
   "execution_count": 46,
   "metadata": {},
   "outputs": [
    {
     "data": {
      "text/plain": [
       "(1054011, 72)"
      ]
     },
     "execution_count": 46,
     "metadata": {},
     "output_type": "execute_result"
    }
   ],
   "source": [
    "df_clean[filtered_entries].shape"
   ]
  },
  {
   "cell_type": "code",
   "execution_count": 47,
   "metadata": {},
   "outputs": [],
   "source": [
    "df_clean = df_clean[filtered_entries]"
   ]
  },
  {
   "cell_type": "markdown",
   "metadata": {},
   "source": [
    "### Feature encoding"
   ]
  },
  {
   "cell_type": "code",
   "execution_count": 48,
   "metadata": {
    "scrolled": false
   },
   "outputs": [
    {
     "name": "stdout",
     "output_type": "stream",
     "text": [
      "w    729982\n",
      "f    324029\n",
      "Name: initial_list_status, dtype: int64\n",
      "Individual    1007792\n",
      "Joint App       46219\n",
      "Name: application_type, dtype: int64\n",
      "N    1053714\n",
      "Y        297\n",
      "Name: hardship_flag, dtype: int64\n",
      "Cash         1015470\n",
      "DirectPay      38541\n",
      "Name: disbursement_method, dtype: int64\n",
      "N    1043289\n",
      "Y      10722\n",
      "Name: debt_settlement_flag, dtype: int64\n",
      "n    1053796\n",
      "y        215\n",
      "Name: pymnt_plan, dtype: int64\n"
     ]
    }
   ],
   "source": [
    "# Check binary col\n",
    "print(df_clean.initial_list_status.value_counts())\n",
    "print(df_clean.application_type.value_counts())\n",
    "print(df_clean.hardship_flag.value_counts())\n",
    "print(df_clean.disbursement_method.value_counts())\n",
    "print(df_clean.debt_settlement_flag.value_counts())\n",
    "print(df_clean.pymnt_plan.value_counts())"
   ]
  },
  {
   "cell_type": "code",
   "execution_count": 49,
   "metadata": {},
   "outputs": [],
   "source": [
    "dic = {\"n\": 0, \"y\": 1,\n",
    "       \"N\": 0, \"Y\": 1,\n",
    "       \"w\": 1, \"f\": 0, \n",
    "       \"Individual\": 1, \"Joint App\": 0, \n",
    "       \"Cash\": 1, \"DirectPay\": 0}\n",
    "\n",
    "# encode\n",
    "df_clean.loc[:, \"hardship_flag\"] = df_clean.hardship_flag.map(dic).astype(float)\n",
    "df_clean.loc[:, \"debt_settlement_flag\"] = df_clean.debt_settlement_flag.map(dic).astype(float)\n",
    "df_clean.loc[:, \"pymnt_plan\"] = df_clean.pymnt_plan.map(dic).astype(float)\n",
    "\n",
    "# encode and create new column\n",
    "df_clean[\"initial_list_status_w\"] = df_clean.initial_list_status.map(dic).astype(float)\n",
    "df_clean[\"application_type_Individual\"] = df_clean.application_type.map(dic).astype(float)\n",
    "df_clean[\"disbursement_method_Cash\"] = df_clean.disbursement_method.map(dic).astype(float)\n",
    "\n",
    "# drop original columns\n",
    "df_clean = df_clean.drop(columns=[\"initial_list_status\", \n",
    "                                  \"application_type\", \n",
    "                                  \"disbursement_method\"])"
   ]
  },
  {
   "cell_type": "code",
   "execution_count": 50,
   "metadata": {},
   "outputs": [
    {
     "data": {
      "text/plain": [
       "(1054011, 72)"
      ]
     },
     "execution_count": 50,
     "metadata": {},
     "output_type": "execute_result"
    }
   ],
   "source": [
    "# check grade value count\n",
    "df_clean.shape"
   ]
  },
  {
   "cell_type": "code",
   "execution_count": 51,
   "metadata": {},
   "outputs": [
    {
     "data": {
      "text/plain": [
       "MORTGAGE    507260\n",
       "RENT        438483\n",
       "OWN         107757\n",
       "ANY            462\n",
       "OTHER           30\n",
       "NONE            19\n",
       "Name: home_ownership, dtype: int64"
      ]
     },
     "execution_count": 51,
     "metadata": {},
     "output_type": "execute_result"
    }
   ],
   "source": [
    "# check home_ownership\n",
    "df_clean.home_ownership.value_counts()"
   ]
  },
  {
   "cell_type": "code",
   "execution_count": 52,
   "metadata": {},
   "outputs": [],
   "source": [
    "# replace NONE with ANY\n",
    "df_clean.home_ownership = df_clean.home_ownership.str.replace(\"NONE\", \"ANY\")"
   ]
  },
  {
   "cell_type": "code",
   "execution_count": 53,
   "metadata": {},
   "outputs": [
    {
     "data": {
      "text/plain": [
       "Source Verified    443371\n",
       "Not Verified       377795\n",
       "Verified           232845\n",
       "Name: verification_status, dtype: int64"
      ]
     },
     "execution_count": 53,
     "metadata": {},
     "output_type": "execute_result"
    }
   ],
   "source": [
    "# check verification_status\n",
    "df_clean.verification_status.value_counts()"
   ]
  },
  {
   "cell_type": "code",
   "execution_count": 54,
   "metadata": {
    "scrolled": false
   },
   "outputs": [
    {
     "data": {
      "text/plain": [
       "debt_consolidation    599698\n",
       "credit_card           252183\n",
       "home_improvement       63845\n",
       "other                  62256\n",
       "major_purchase         22017\n",
       "medical                12266\n",
       "car                    10685\n",
       "small_business          9279\n",
       "vacation                7613\n",
       "moving                  7166\n",
       "house                   5860\n",
       "renewable_energy         617\n",
       "wedding                  525\n",
       "educational                1\n",
       "Name: purpose, dtype: int64"
      ]
     },
     "execution_count": 54,
     "metadata": {},
     "output_type": "execute_result"
    }
   ],
   "source": [
    "# check purpose\n",
    "df_clean.purpose.value_counts()\n"
   ]
  },
  {
   "cell_type": "markdown",
   "metadata": {},
   "source": [
    "## III. Credit default classification"
   ]
  },
  {
   "cell_type": "code",
   "execution_count": 55,
   "metadata": {},
   "outputs": [],
   "source": [
    "# function for encode object columns\n",
    "def fea_encode(df, target):\n",
    "    obj_col = df.dtypes[(df.dtypes == \"object\") & (df.columns != target)].index\n",
    "    for i in obj_col:\n",
    "        df = pd.get_dummies(df, columns = [i], prefix='', prefix_sep='', drop_first=True)\n",
    "    return df"
   ]
  },
  {
   "cell_type": "code",
   "execution_count": 56,
   "metadata": {},
   "outputs": [],
   "source": [
    "from sklearn import preprocessing\n",
    "from sklearn import metrics\n",
    "from sklearn.linear_model import LogisticRegression\n",
    "from sklearn.ensemble import RandomForestClassifier\n",
    "from sklearn.tree import DecisionTreeClassifier"
   ]
  },
  {
   "cell_type": "code",
   "execution_count": 57,
   "metadata": {},
   "outputs": [],
   "source": [
    "# choose logistic regression as baseline model\n",
    "df_default = df_clean.copy()"
   ]
  },
  {
   "cell_type": "code",
   "execution_count": 58,
   "metadata": {},
   "outputs": [],
   "source": [
    "df_test = fea_encode(df_default, \"loan_status\")"
   ]
  },
  {
   "cell_type": "code",
   "execution_count": 59,
   "metadata": {},
   "outputs": [],
   "source": [
    "# pre process\n",
    "X = df_test.loc[:, df_test.columns != 'loan_status'].values\n",
    "y = df_test.loan_status.values"
   ]
  },
  {
   "cell_type": "code",
   "execution_count": 60,
   "metadata": {},
   "outputs": [],
   "source": [
    "X_train, X_test, y_train, y_test = train_test_split(X, y, test_size=0.2, random_state=30)"
   ]
  },
  {
   "cell_type": "code",
   "execution_count": 61,
   "metadata": {},
   "outputs": [
    {
     "data": {
      "text/plain": [
       "LogisticRegression(max_iter=1000)"
      ]
     },
     "execution_count": 61,
     "metadata": {},
     "output_type": "execute_result"
    }
   ],
   "source": [
    "# scaling \n",
    "scaler = preprocessing.StandardScaler().fit(X_train)\n",
    "X_train_scaled = scaler.transform(X_train)\n",
    "\n",
    "# all parameters not specified are set to their defaults\n",
    "logisticRegr = LogisticRegression(max_iter=1000)\n",
    "logisticRegr.fit(X_train_scaled, y_train)"
   ]
  },
  {
   "cell_type": "code",
   "execution_count": 62,
   "metadata": {},
   "outputs": [
    {
     "name": "stdout",
     "output_type": "stream",
     "text": [
      "98.75\n"
     ]
    }
   ],
   "source": [
    "# scaling \n",
    "X_test_scaled = scaler.transform(X_test)\n",
    "predictions = logisticRegr.predict(X_test_scaled)\n",
    "# Use score method to get accuracy of model\n",
    "score = round(logisticRegr.score(X_test_scaled, y_test), 4)\n",
    "print(score*100)"
   ]
  },
  {
   "cell_type": "code",
   "execution_count": 63,
   "metadata": {},
   "outputs": [
    {
     "name": "stdout",
     "output_type": "stream",
     "text": [
      "[[ 20243   2495]\n",
      " [   146 187919]]\n"
     ]
    }
   ],
   "source": [
    "cm = metrics.confusion_matrix(y_test, predictions)\n",
    "print(cm)"
   ]
  },
  {
   "cell_type": "markdown",
   "metadata": {},
   "source": [
    "### Feature deduction"
   ]
  },
  {
   "cell_type": "code",
   "execution_count": 64,
   "metadata": {},
   "outputs": [],
   "source": [
    "# baseline model accuracy \n",
    "base_acc = score\n",
    "feature_list = df_default.columns[df_default.columns != \"loan_status\"]"
   ]
  },
  {
   "cell_type": "code",
   "execution_count": 65,
   "metadata": {},
   "outputs": [
    {
     "name": "stdout",
     "output_type": "stream",
     "text": [
      "baseline accuracy: 0.9875\n",
      "----------------------------------------\n",
      "1/71. without 'loan_amnt' : 0.972\n",
      "----------------------------------------\n",
      "2/71. without 'term' : 0.9875\n",
      "drop 'term'\n",
      "new baseline accuracy: 0.9875\n",
      "----------------------------------------\n",
      "3/71. without 'int_rate' : 0.9875\n",
      "drop 'int_rate'\n",
      "new baseline accuracy: 0.9875\n",
      "----------------------------------------\n",
      "4/71. without 'grade' : 0.9875\n",
      "drop 'grade'\n",
      "new baseline accuracy: 0.9875\n",
      "----------------------------------------\n",
      "5/71. without 'sub_grade' : 0.9874\n",
      "----------------------------------------\n",
      "6/71. without 'emp_length' : 0.9874\n",
      "----------------------------------------\n",
      "7/71. without 'home_ownership' : 0.9875\n",
      "drop 'home_ownership'\n",
      "new baseline accuracy: 0.9875\n",
      "----------------------------------------\n",
      "8/71. without 'annual_inc' : 0.9874\n",
      "----------------------------------------\n",
      "9/71. without 'verification_status' : 0.9875\n",
      "drop 'verification_status'\n",
      "new baseline accuracy: 0.9875\n",
      "----------------------------------------\n",
      "10/71. without 'pymnt_plan' : 0.9875\n",
      "drop 'pymnt_plan'\n",
      "new baseline accuracy: 0.9875\n",
      "----------------------------------------\n",
      "11/71. without 'purpose' : 0.9874\n",
      "----------------------------------------\n",
      "12/71. without 'addr_state' : 0.9874\n",
      "----------------------------------------\n",
      "13/71. without 'dti' : 0.9875\n",
      "drop 'dti'\n",
      "new baseline accuracy: 0.9875\n",
      "----------------------------------------\n",
      "14/71. without 'delinq_2yrs' : 0.9875\n",
      "drop 'delinq_2yrs'\n",
      "new baseline accuracy: 0.9875\n",
      "----------------------------------------\n",
      "15/71. without 'fico_range_high' : 0.9874\n",
      "----------------------------------------\n",
      "16/71. without 'inq_last_6mths' : 0.9875\n",
      "drop 'inq_last_6mths'\n",
      "new baseline accuracy: 0.9875\n",
      "----------------------------------------\n",
      "17/71. without 'open_acc' : 0.9875\n",
      "drop 'open_acc'\n",
      "new baseline accuracy: 0.9875\n",
      "----------------------------------------\n",
      "18/71. without 'pub_rec' : 0.9875\n",
      "drop 'pub_rec'\n",
      "new baseline accuracy: 0.9875\n",
      "----------------------------------------\n",
      "19/71. without 'revol_bal' : 0.9875\n",
      "drop 'revol_bal'\n",
      "new baseline accuracy: 0.9875\n",
      "----------------------------------------\n",
      "20/71. without 'revol_util' : 0.9875\n",
      "drop 'revol_util'\n",
      "new baseline accuracy: 0.9875\n",
      "----------------------------------------\n",
      "21/71. without 'total_acc' : 0.9875\n",
      "drop 'total_acc'\n",
      "new baseline accuracy: 0.9875\n",
      "----------------------------------------\n",
      "22/71. without 'out_prncp' : 0.9722\n",
      "----------------------------------------\n",
      "23/71. without 'total_pymnt' : 0.969\n",
      "----------------------------------------\n",
      "24/71. without 'total_rec_int' : 0.9843\n",
      "----------------------------------------\n",
      "25/71. without 'total_rec_late_fee' : 0.9876\n",
      "drop 'total_rec_late_fee'\n",
      "new baseline accuracy: 0.9876\n",
      "----------------------------------------\n",
      "26/71. without 'recoveries' : 0.9873\n",
      "----------------------------------------\n",
      "27/71. without 'last_pymnt_amnt' : 0.9875\n",
      "----------------------------------------\n",
      "28/71. without 'last_fico_range_high' : 0.9876\n",
      "drop 'last_fico_range_high'\n",
      "new baseline accuracy: 0.9876\n",
      "----------------------------------------\n",
      "29/71. without 'last_fico_range_low' : 0.9868\n",
      "----------------------------------------\n",
      "30/71. without 'collections_12_mths_ex_med' : 0.9876\n",
      "drop 'collections_12_mths_ex_med'\n",
      "new baseline accuracy: 0.9876\n",
      "----------------------------------------\n",
      "31/71. without 'acc_now_delinq' : 0.9876\n",
      "drop 'acc_now_delinq'\n",
      "new baseline accuracy: 0.9876\n",
      "----------------------------------------\n",
      "32/71. without 'tot_coll_amt' : 0.9876\n",
      "drop 'tot_coll_amt'\n",
      "new baseline accuracy: 0.9876\n",
      "----------------------------------------\n",
      "33/71. without 'tot_cur_bal' : 0.9876\n",
      "drop 'tot_cur_bal'\n",
      "new baseline accuracy: 0.9876\n",
      "----------------------------------------\n",
      "34/71. without 'total_rev_hi_lim' : 0.9876\n",
      "drop 'total_rev_hi_lim'\n",
      "new baseline accuracy: 0.9876\n",
      "----------------------------------------\n",
      "35/71. without 'acc_open_past_24mths' : 0.9875\n",
      "----------------------------------------\n",
      "36/71. without 'avg_cur_bal' : 0.9876\n",
      "drop 'avg_cur_bal'\n",
      "new baseline accuracy: 0.9876\n",
      "----------------------------------------\n",
      "37/71. without 'bc_open_to_buy' : 0.9876\n",
      "drop 'bc_open_to_buy'\n",
      "new baseline accuracy: 0.9876\n",
      "----------------------------------------\n",
      "38/71. without 'bc_util' : 0.9876\n",
      "drop 'bc_util'\n",
      "new baseline accuracy: 0.9876\n",
      "----------------------------------------\n",
      "39/71. without 'chargeoff_within_12_mths' : 0.9876\n",
      "drop 'chargeoff_within_12_mths'\n",
      "new baseline accuracy: 0.9876\n",
      "----------------------------------------\n",
      "40/71. without 'delinq_amnt' : 0.9876\n",
      "drop 'delinq_amnt'\n",
      "new baseline accuracy: 0.9876\n",
      "----------------------------------------\n",
      "41/71. without 'mo_sin_old_il_acct' : 0.9876\n",
      "drop 'mo_sin_old_il_acct'\n",
      "new baseline accuracy: 0.9876\n",
      "----------------------------------------\n",
      "42/71. without 'mo_sin_old_rev_tl_op' : 0.9876\n",
      "drop 'mo_sin_old_rev_tl_op'\n",
      "new baseline accuracy: 0.9876\n",
      "----------------------------------------\n",
      "43/71. without 'mo_sin_rcnt_rev_tl_op' : 0.9875\n",
      "----------------------------------------\n",
      "44/71. without 'mo_sin_rcnt_tl' : 0.9876\n",
      "drop 'mo_sin_rcnt_tl'\n",
      "new baseline accuracy: 0.9876\n",
      "----------------------------------------\n",
      "45/71. without 'mort_acc' : 0.9876\n",
      "drop 'mort_acc'\n",
      "new baseline accuracy: 0.9876\n",
      "----------------------------------------\n",
      "46/71. without 'mths_since_recent_bc' : 0.9876\n",
      "drop 'mths_since_recent_bc'\n",
      "new baseline accuracy: 0.9876\n",
      "----------------------------------------\n",
      "47/71. without 'mths_since_recent_inq' : 0.9876\n",
      "drop 'mths_since_recent_inq'\n",
      "new baseline accuracy: 0.9876\n",
      "----------------------------------------\n",
      "48/71. without 'num_accts_ever_120_pd' : 0.9876\n",
      "drop 'num_accts_ever_120_pd'\n",
      "new baseline accuracy: 0.9876\n",
      "----------------------------------------\n",
      "49/71. without 'num_actv_bc_tl' : 0.9876\n",
      "drop 'num_actv_bc_tl'\n",
      "new baseline accuracy: 0.9876\n",
      "----------------------------------------\n",
      "50/71. without 'num_actv_rev_tl' : 0.9876\n",
      "drop 'num_actv_rev_tl'\n",
      "new baseline accuracy: 0.9876\n",
      "----------------------------------------\n",
      "51/71. without 'num_bc_sats' : 0.9876\n",
      "drop 'num_bc_sats'\n",
      "new baseline accuracy: 0.9876\n",
      "----------------------------------------\n",
      "52/71. without 'num_bc_tl' : 0.9876\n",
      "drop 'num_bc_tl'\n",
      "new baseline accuracy: 0.9876\n",
      "----------------------------------------\n",
      "53/71. without 'num_il_tl' : 0.9876\n",
      "drop 'num_il_tl'\n",
      "new baseline accuracy: 0.9876\n",
      "----------------------------------------\n",
      "54/71. without 'num_op_rev_tl' : 0.9876\n",
      "drop 'num_op_rev_tl'\n",
      "new baseline accuracy: 0.9876\n",
      "----------------------------------------\n",
      "55/71. without 'num_rev_accts' : 0.9875\n",
      "----------------------------------------\n",
      "56/71. without 'num_tl_120dpd_2m' : 0.9876\n",
      "drop 'num_tl_120dpd_2m'\n",
      "new baseline accuracy: 0.9876\n",
      "----------------------------------------\n",
      "57/71. without 'num_tl_30dpd' : 0.9876\n",
      "drop 'num_tl_30dpd'\n",
      "new baseline accuracy: 0.9876\n",
      "----------------------------------------\n",
      "58/71. without 'num_tl_90g_dpd_24m' : 0.9876\n",
      "drop 'num_tl_90g_dpd_24m'\n",
      "new baseline accuracy: 0.9876\n",
      "----------------------------------------\n",
      "59/71. without 'num_tl_op_past_12m' : 0.9876\n",
      "drop 'num_tl_op_past_12m'\n",
      "new baseline accuracy: 0.9876\n",
      "----------------------------------------\n",
      "60/71. without 'pct_tl_nvr_dlq' : 0.9876\n",
      "drop 'pct_tl_nvr_dlq'\n",
      "new baseline accuracy: 0.9876\n",
      "----------------------------------------\n",
      "61/71. without 'percent_bc_gt_75' : 0.9875\n",
      "----------------------------------------\n",
      "62/71. without 'pub_rec_bankruptcies' : 0.9876\n",
      "drop 'pub_rec_bankruptcies'\n",
      "new baseline accuracy: 0.9876\n",
      "----------------------------------------\n",
      "63/71. without 'tax_liens' : 0.9876\n",
      "drop 'tax_liens'\n",
      "new baseline accuracy: 0.9876\n",
      "----------------------------------------\n",
      "64/71. without 'total_bal_ex_mort' : 0.9875\n",
      "----------------------------------------\n",
      "65/71. without 'total_bc_limit' : 0.9876\n",
      "drop 'total_bc_limit'\n",
      "new baseline accuracy: 0.9876\n",
      "----------------------------------------\n",
      "66/71. without 'total_il_high_credit_limit' : 0.9876\n",
      "drop 'total_il_high_credit_limit'\n",
      "new baseline accuracy: 0.9876\n",
      "----------------------------------------\n",
      "67/71. without 'hardship_flag' : 0.9873\n",
      "----------------------------------------\n",
      "68/71. without 'debt_settlement_flag' : 0.9872\n",
      "----------------------------------------\n",
      "69/71. without 'initial_list_status_w' : 0.9875\n",
      "----------------------------------------\n",
      "70/71. without 'application_type_Individual' : 0.9876\n"
     ]
    },
    {
     "name": "stdout",
     "output_type": "stream",
     "text": [
      "drop 'application_type_Individual'\n",
      "new baseline accuracy: 0.9876\n",
      "----------------------------------------\n",
      "71/71. without 'disbursement_method_Cash' : 0.9875\n",
      "----------------------------------------\n"
     ]
    }
   ],
   "source": [
    "print(f\"baseline accuracy: {base_acc}\")\n",
    "print(\"-\"*40)\n",
    "count = 1\n",
    "for i in feature_list:\n",
    "    df_test = df_default.drop(columns=i)\n",
    "    df_test = fea_encode(df_test, \"loan_status\")\n",
    "    # pre process\n",
    "    X = df_test.loc[:, df_test.columns != 'loan_status'].values\n",
    "    y = df_test.loan_status.values\n",
    "    X_train, X_test, y_train, y_test = train_test_split(X, y, test_size=0.2, random_state=30)\n",
    "    scaler = preprocessing.StandardScaler().fit(X_train)\n",
    "    X_train_scaled = scaler.transform(X_train)\n",
    "    # all parameters not specified are set to their defaults\n",
    "    logisticRegr = LogisticRegression(max_iter=1000)\n",
    "    logisticRegr.fit(X_train_scaled, y_train)\n",
    "    X_test_scaled = scaler.transform(X_test)\n",
    "    predictions = logisticRegr.predict(X_test_scaled)\n",
    "    # Use score method to get accuracy of model\n",
    "    score = round(logisticRegr.score(X_test_scaled, y_test), 4)\n",
    "    print(f\"{count}/{len(feature_list)}. without '{i}' : {score}\")\n",
    "    if score >= base_acc:\n",
    "        df_default = df_default.drop(columns=i)\n",
    "        base_acc = score\n",
    "        print(f\"drop '{i}'\")\n",
    "        print(f\"new baseline accuracy: {base_acc}\")\n",
    "    print(\"-\"*40)\n",
    "    count += 1\n",
    "feature_list = df_default.columns\n",
    "score_default = score"
   ]
  },
  {
   "cell_type": "code",
   "execution_count": 66,
   "metadata": {},
   "outputs": [
    {
     "data": {
      "text/plain": [
       "(1054011, 23)"
      ]
     },
     "execution_count": 66,
     "metadata": {},
     "output_type": "execute_result"
    }
   ],
   "source": [
    "# shape after feature deduction from 71 to 23\n",
    "df_default.shape"
   ]
  },
  {
   "cell_type": "code",
   "execution_count": 67,
   "metadata": {},
   "outputs": [],
   "source": [
    "# encoding\n",
    "df_test = fea_encode(df_default, \"loan_status\")"
   ]
  },
  {
   "cell_type": "code",
   "execution_count": 68,
   "metadata": {},
   "outputs": [],
   "source": [
    "# pre process\n",
    "X = df_test.loc[:, df_test.columns != 'loan_status'].values\n",
    "y = df_test.loan_status.values\n",
    "\n",
    "# splitting\n",
    "X_train, X_test, y_train, y_test = train_test_split(X, y, test_size=0.2, random_state=30)\n",
    "\n",
    "# scalling\n",
    "scaler = preprocessing.StandardScaler().fit(X_train)\n",
    "X_train_scaled = scaler.transform(X_train)\n",
    "\n",
    "# RandomForestClassifier\n",
    "clf = RandomForestClassifier(max_depth=2, random_state=0)\n",
    "clf.fit(X_train_scaled, y_train)\n",
    "\n",
    "# DecisionTreeClassifier\n",
    "decision_tree = DecisionTreeClassifier(random_state=0, max_depth=2)\n",
    "decision_tree.fit(X_train_scaled, y_train)\n",
    "\n",
    "# scalling\n",
    "X_test_scaled = scaler.transform(X_test)\n",
    "\n",
    "# accuracy score\n",
    "score_default_clf = round(clf.score(X_test_scaled, y_test), 4)\n",
    "score_default_decision_tree = round(decision_tree.score(X_test_scaled, y_test), 4)"
   ]
  },
  {
   "cell_type": "code",
   "execution_count": 69,
   "metadata": {},
   "outputs": [
    {
     "name": "stdout",
     "output_type": "stream",
     "text": [
      "logistic regression 0.9875\n",
      "Random Forest 0.8922\n",
      "Decision Tree 0.9536\n"
     ]
    }
   ],
   "source": [
    "print(f\"logistic regression {score}\")\n",
    "print(f\"Random Forest {score_default_clf}\")\n",
    "print(f\"Decision Tree {score_default_decision_tree}\")"
   ]
  },
  {
   "cell_type": "markdown",
   "metadata": {},
   "source": [
    "### III. Credit grade classification"
   ]
  },
  {
   "cell_type": "code",
   "execution_count": 70,
   "metadata": {},
   "outputs": [],
   "source": [
    "# choose logistic regression as baseline model\n",
    "df_grade = df_clean.copy()\n",
    "df_grade = df_grade.drop(columns=[\"sub_grade\", \"loan_status\"])"
   ]
  },
  {
   "cell_type": "code",
   "execution_count": 71,
   "metadata": {},
   "outputs": [
    {
     "name": "stdout",
     "output_type": "stream",
     "text": [
      "88.46000000000001\n"
     ]
    }
   ],
   "source": [
    "df_test = fea_encode(df_grade, \"grade\")\n",
    "\n",
    "# pre process\n",
    "X = df_test.loc[:, df_test.columns != 'grade'].values\n",
    "y = df_test.grade.values\n",
    "\n",
    "X_train, X_test, y_train, y_test = train_test_split(X, y, test_size=0.2, random_state=30)\n",
    "\n",
    "# scaling \n",
    "scaler = preprocessing.StandardScaler().fit(X_train)\n",
    "X_train_scaled = scaler.transform(X_train)\n",
    "\n",
    "# all parameters not specified are set to their defaults\n",
    "logisticRegr = LogisticRegression(max_iter=1000)\n",
    "logisticRegr.fit(X_train_scaled, y_train)\n",
    "X_test_scaled = scaler.transform(X_test)\n",
    "predictions = logisticRegr.predict(X_test_scaled)\n",
    "\n",
    "# Use score method to get accuracy of model\n",
    "score = round(logisticRegr.score(X_test_scaled, y_test), 4)\n",
    "print(score*100)"
   ]
  },
  {
   "cell_type": "code",
   "execution_count": 72,
   "metadata": {},
   "outputs": [
    {
     "name": "stdout",
     "output_type": "stream",
     "text": [
      "[[37509  1982     0     0     0     0     0]\n",
      " [ 2799 58101  4380     0     0     0     0]\n",
      " [   34  3914 57689  1979     0     0     0]\n",
      " [   14     0  3013 24949  1625     0     0]\n",
      " [    7     0     0  2832  7339   455     4]\n",
      " [    0     0     0     0  1044   838    39]\n",
      " [    1     0     0     0    12   196    48]]\n"
     ]
    }
   ],
   "source": [
    "cm = metrics.confusion_matrix(y_test, predictions)\n",
    "print(cm)"
   ]
  },
  {
   "cell_type": "code",
   "execution_count": 73,
   "metadata": {},
   "outputs": [],
   "source": [
    "# baseline model accuracy \n",
    "base_acc = score\n",
    "feature_list = df_grade.columns[df_grade.columns != \"grade\"]"
   ]
  },
  {
   "cell_type": "markdown",
   "metadata": {},
   "source": [
    "### Feature deduction"
   ]
  },
  {
   "cell_type": "code",
   "execution_count": null,
   "metadata": {},
   "outputs": [
    {
     "name": "stdout",
     "output_type": "stream",
     "text": [
      "baseline accuracy: 0.8846\n",
      "----------------------------------------\n",
      "1/69. without 'loan_amnt' : 0.8846\n",
      "drop 'loan_amnt'\n",
      "new baseline accuracy: 0.8846\n",
      "----------------------------------------\n",
      "2/69. without 'term' : 0.8836\n",
      "----------------------------------------\n",
      "3/69. without 'int_rate' : 0.5835\n",
      "----------------------------------------\n",
      "4/69. without 'emp_length' : 0.8846\n",
      "drop 'emp_length'\n",
      "new baseline accuracy: 0.8846\n",
      "----------------------------------------\n",
      "5/69. without 'home_ownership' : 0.8846\n",
      "drop 'home_ownership'\n",
      "new baseline accuracy: 0.8846\n",
      "----------------------------------------\n",
      "6/69. without 'annual_inc' : 0.8844\n",
      "----------------------------------------\n",
      "7/69. without 'verification_status' : 0.8841\n",
      "----------------------------------------\n",
      "8/69. without 'pymnt_plan' : 0.8846\n",
      "drop 'pymnt_plan'\n",
      "new baseline accuracy: 0.8846\n",
      "----------------------------------------\n",
      "9/69. without 'purpose' : 0.8835\n",
      "----------------------------------------\n",
      "10/69. without 'addr_state' : 0.8844\n",
      "----------------------------------------\n",
      "11/69. without 'dti' : 0.8841\n",
      "----------------------------------------\n",
      "12/69. without 'delinq_2yrs' : 0.8845\n",
      "----------------------------------------\n",
      "13/69. without 'fico_range_high' : 0.8836\n",
      "----------------------------------------\n"
     ]
    }
   ],
   "source": [
    "print(f\"baseline accuracy: {base_acc}\")\n",
    "print(\"-\"*40)\n",
    "count = 1\n",
    "for i in feature_list:\n",
    "    df_test = df_grade.drop(columns=i)\n",
    "    df_test = fea_encode(df_test, \"grade\")\n",
    "    \n",
    "    # pre process\n",
    "    X = df_test.loc[:, df_test.columns != 'grade'].values\n",
    "    y = df_test.grade.values\n",
    "    X_train, X_test, y_train, y_test = train_test_split(X, y, test_size=0.2, random_state=30)\n",
    "    scaler = preprocessing.StandardScaler().fit(X_train)\n",
    "    X_train_scaled = scaler.transform(X_train)\n",
    "    \n",
    "    # all parameters not specified are set to their defaults\n",
    "    logisticRegr = LogisticRegression(max_iter=1000)\n",
    "    logisticRegr.fit(X_train_scaled, y_train)\n",
    "    X_test_scaled = scaler.transform(X_test)\n",
    "    predictions = logisticRegr.predict(X_test_scaled)\n",
    "    \n",
    "    # Use score method to get accuracy of model\n",
    "    score = round(logisticRegr.score(X_test_scaled, y_test), 4)\n",
    "    print(f\"{count}/{len(feature_list)}. without '{i}' : {score}\")\n",
    "    if score >= base_acc:\n",
    "        df_grade = df_grade.drop(columns=i)\n",
    "        base_acc = score\n",
    "        print(f\"drop '{i}'\")\n",
    "        print(f\"new baseline accuracy: {base_acc}\")\n",
    "    print(\"-\"*40)\n",
    "    count += 1\n",
    "feature_list = df.grade.columns\n",
    "score_grade = score"
   ]
  },
  {
   "cell_type": "code",
   "execution_count": null,
   "metadata": {},
   "outputs": [],
   "source": [
    "# encoding\n",
    "df_test = fea_encode(df_grade, \"grade\")\n",
    "\n",
    "# pre process\n",
    "X = df_test.loc[:, df_test.columns != 'grade'].values\n",
    "y = df_test.grade.values\n",
    "\n",
    "# splitting\n",
    "X_train, X_test, y_train, y_test = train_test_split(X, y, test_size=0.2, random_state=30)\n",
    "\n",
    "# scalling\n",
    "scaler = preprocessing.StandardScaler().fit(X_train)\n",
    "X_train_scaled = scaler.transform(X_train)\n",
    "\n",
    "# RandomForestClassifier\n",
    "clf = RandomForestClassifier(max_depth=2, random_state=0)\n",
    "clf.fit(X_train_scaled, y_train)\n",
    "\n",
    "# DecisionTreeClassifier\n",
    "decision_tree = DecisionTreeClassifier(random_state=0, max_depth=2)\n",
    "decision_tree.fit(X_train_scaled, y_train)\n",
    "\n",
    "# scalling\n",
    "X_test_scaled = scaler.transform(X_test)\n",
    "\n",
    "# accuracy score\n",
    "score_grade_decision_tree = round(decision_tree.score(X_test_scaled, y_test), 4)\n",
    "score_grade_clf = round(clf.score(X_test_scaled, y_test), 4)"
   ]
  },
  {
   "cell_type": "code",
   "execution_count": null,
   "metadata": {},
   "outputs": [],
   "source": [
    "print(f\"logistic regression {score_grade}\")\n",
    "print(f\"Random Forest {score_grade_clf}\")\n",
    "print(f\"Decision Tree {score_grade_decision_tree}\")"
   ]
  }
 ],
 "metadata": {
  "kernelspec": {
   "display_name": "Python 3",
   "language": "python",
   "name": "python3"
  },
  "language_info": {
   "codemirror_mode": {
    "name": "ipython",
    "version": 3
   },
   "file_extension": ".py",
   "mimetype": "text/x-python",
   "name": "python",
   "nbconvert_exporter": "python",
   "pygments_lexer": "ipython3",
   "version": "3.8.4"
  }
 },
 "nbformat": 4,
 "nbformat_minor": 4
}
